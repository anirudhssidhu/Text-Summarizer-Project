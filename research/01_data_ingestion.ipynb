{
 "cells": [
  {
   "cell_type": "code",
   "execution_count": 1,
   "metadata": {},
   "outputs": [
    {
     "data": {
      "text/plain": [
       "'c:\\\\Users\\\\Admin\\\\MLProjects\\\\Text-Summarizer-Project'"
      ]
     },
     "execution_count": 1,
     "metadata": {},
     "output_type": "execute_result"
    }
   ],
   "source": [
    "import os\n",
    "%pwd\n",
    "os.chdir(\"../\")\n",
    "%pwd"
   ]
  },
  {
   "cell_type": "code",
   "execution_count": 2,
   "metadata": {},
   "outputs": [],
   "source": [
    "from dataclasses import dataclass\n",
    "from pathlib import Path\n",
    "\n",
    "@dataclass(frozen=True)\n",
    "class DataIngestionConfig:\n",
    "    root_dir: Path\n",
    "    source_URL: str\n",
    "    local_data_file: Path\n",
    "    unzip_dir: Path"
   ]
  },
  {
   "cell_type": "code",
   "execution_count": 3,
   "metadata": {},
   "outputs": [],
   "source": [
    "\n",
    "from textSummarizer.constants import *\n",
    "from textSummarizer.utils.common import read_yaml, create_directories\n",
    "\n",
    "class ConfigurationManager:\n",
    "    def __init__(\n",
    "        self,\n",
    "        config_filepath = CONFIG_FILE_PATH,\n",
    "        params_filepath = PARAMS_FILE_PATH):\n",
    "\n",
    "        self.config = read_yaml(config_filepath)\n",
    "        self.params = read_yaml(params_filepath)\n",
    "\n",
    "        create_directories([self.config.artifacts_root])\n",
    "\n",
    "    \n",
    "\n",
    "    def get_data_ingestion_config(self) -> DataIngestionConfig:\n",
    "        config = self.config.data_ingestion\n",
    "\n",
    "        create_directories([config.root_dir])\n",
    "\n",
    "        data_ingestion_config = DataIngestionConfig(\n",
    "            root_dir=config.root_dir,\n",
    "            source_URL=config.source_URL,\n",
    "            local_data_file=config.local_data_file,\n",
    "            unzip_dir=config.unzip_dir \n",
    "        )\n",
    "\n",
    "        return data_ingestion_config"
   ]
  },
  {
   "cell_type": "code",
   "execution_count": 4,
   "metadata": {},
   "outputs": [],
   "source": [
    "import os\n",
    "import urllib.request as request\n",
    "import zipfile\n",
    "from textSummarizer.logging import logger\n",
    "from textSummarizer.utils.common import get_size\n",
    "\n",
    "\n",
    "class DataIngestion:\n",
    "    def __init__(self, config: DataIngestionConfig):\n",
    "        self.config = config\n",
    "\n",
    "    def download_file(self):\n",
    "        if not os.path.exists(self.config.local_data_file):\n",
    "            filename, headers = request.urlretrieve(\n",
    "                url=self.config.source_URL,\n",
    "                filename=self.config.local_data_file\n",
    "            )\n",
    "            logger.info(\n",
    "                f\"{filename} download! with following info: \\n{headers}\")\n",
    "        else:\n",
    "            logger.info(\n",
    "                f\"File already exists of size: {get_size(Path(self.config.local_data_file))}\")\n",
    "\n",
    "    def extract_zip_file(self):\n",
    "        \"\"\"\n",
    "        zip_file_path: str\n",
    "        Extracts the zip file into the data directory\n",
    "        Function returns None\n",
    "        \"\"\"\n",
    "        unzip_path = self.config.unzip_dir\n",
    "        os.makedirs(unzip_path, exist_ok=True)\n",
    "        with zipfile.ZipFile(self.config.local_data_file, 'r') as zip_ref:\n",
    "            zip_ref.extractall(unzip_path)"
   ]
  },
  {
   "cell_type": "code",
   "execution_count": 5,
   "metadata": {},
   "outputs": [],
   "source": [
    "# import os\n",
    "# import requests\n",
    "# import zipfile\n",
    "# from textSummarizer.logging import logger\n",
    "# from textSummarizer.utils.common import get_size\n",
    "\n",
    "\n",
    "# class DataIngestion():\n",
    "#     def __init__(self, config: DataIngestionConfig):\n",
    "#         self.config = config\n",
    "\n",
    "#     def download_file(self,):\n",
    "#         if not os.path.exists(self.config.local_data_file):\n",
    "#             response = requests.get(self.config.source_URL)\n",
    "\n",
    "#             if response.status_code == 200:\n",
    "#                 with open(self.config.local_data_file, \"wb\") as file:\n",
    "#                     file.write(response.content)\n",
    "\n",
    "#                 logger.info(\n",
    "#                     f\"Download successful with the following headers: \\n{response.headers}\")\n",
    "\n",
    "#         else:\n",
    "#             logger.info(\n",
    "#                 f\"File already exists of size: {get_size(Path(self.config.local_data_file))}\")\n",
    "\n",
    "#     def extract_zip_file(self):\n",
    "#         \"\"\"\n",
    "#         zip_file_path: str\n",
    "#         Extracts the zip file into the data directory\n",
    "#         Function returns None\n",
    "#         \"\"\"\n",
    "#         unzip_path = self.config.unzip_dir\n",
    "#         os.makedirs(unzip_path, exist_ok=True)\n",
    "#         with zipfile.ZipFile(self.config.local_data_file, 'r') as zip_ref:\n",
    "#             zip_ref.extractall(unzip_path)"
   ]
  },
  {
   "cell_type": "code",
   "execution_count": 6,
   "metadata": {},
   "outputs": [
    {
     "name": "stdout",
     "output_type": "stream",
     "text": [
      "[2023-09-06 15:22:00,576: INFO: common: yaml file: config\\config.yaml loaded successfully]\n",
      "[2023-09-06 15:22:00,588: INFO: common: yaml file: params.yaml loaded successfully]\n",
      "[2023-09-06 15:22:00,590: INFO: common: created directory at : artifacts]\n",
      "[2023-09-06 15:22:00,593: INFO: common: created directory at : artifacts/data_ingestion]\n",
      "[2023-09-06 15:22:04,307: INFO: 2114368287: artifacts/data_ingestion/data.zip download! with following info: \n",
      "Connection: close\n",
      "Content-Length: 23627009\n",
      "Cache-Control: max-age=300\n",
      "Content-Security-Policy: default-src 'none'; style-src 'unsafe-inline'; sandbox\n",
      "Content-Type: application/zip\n",
      "ETag: \"2e7409b328d118a1d37018be788babf8bf9640386387da766ac100e96efa3b93\"\n",
      "Strict-Transport-Security: max-age=31536000\n",
      "X-Content-Type-Options: nosniff\n",
      "X-Frame-Options: deny\n",
      "X-XSS-Protection: 1; mode=block\n",
      "X-GitHub-Request-Id: 2312:17955E:8E26C:C77DE:64F84B2E\n",
      "Accept-Ranges: bytes\n",
      "Date: Wed, 06 Sep 2023 09:52:03 GMT\n",
      "Via: 1.1 varnish\n",
      "X-Served-By: cache-bom4744-BOM\n",
      "X-Cache: HIT\n",
      "X-Cache-Hits: 0\n",
      "X-Timer: S1693993923.349335,VS0,VE1\n",
      "Vary: Authorization,Accept-Encoding,Origin\n",
      "Access-Control-Allow-Origin: *\n",
      "Cross-Origin-Resource-Policy: cross-origin\n",
      "X-Fastly-Request-ID: 832a748ab5c161c63c1547f3ba203a18dcab10e1\n",
      "Expires: Wed, 06 Sep 2023 09:57:03 GMT\n",
      "Source-Age: 147\n",
      "\n",
      "]\n"
     ]
    }
   ],
   "source": [
    "try:\n",
    "    config = ConfigurationManager()\n",
    "    data_ingestion_config = config.get_data_ingestion_config()\n",
    "    data_ingestion = DataIngestion(config=data_ingestion_config)\n",
    "    data_ingestion.download_file()\n",
    "    data_ingestion.extract_zip_file()\n",
    "except Exception as e:\n",
    "    raise e"
   ]
  }
 ],
 "metadata": {
  "kernelspec": {
   "display_name": "textS",
   "language": "python",
   "name": "python3"
  },
  "language_info": {
   "codemirror_mode": {
    "name": "ipython",
    "version": 3
   },
   "file_extension": ".py",
   "mimetype": "text/x-python",
   "name": "python",
   "nbconvert_exporter": "python",
   "pygments_lexer": "ipython3",
   "version": "3.8.17"
  },
  "orig_nbformat": 4
 },
 "nbformat": 4,
 "nbformat_minor": 2
}
